{
 "cells": [
  {
   "cell_type": "code",
   "execution_count": 52,
   "id": "db445303-8de1-49a5-abf5-83ea7cc7e3e7",
   "metadata": {},
   "outputs": [],
   "source": [
    "import pandas as pd\n",
    "import numpy as np\n",
    "from sklearn.feature_extraction import DictVectorizer\n",
    "from sklearn.linear_model import LinearRegression\n",
    "from sklearn.metrics import mean_squared_error"
   ]
  },
  {
   "cell_type": "markdown",
   "id": "fe21befe-a3b3-46c0-a343-5eee48f7913f",
   "metadata": {},
   "source": [
    "## Read the data"
   ]
  },
  {
   "cell_type": "code",
   "execution_count": 53,
   "id": "05661d1c-8787-4d57-96c1-3b3a90235161",
   "metadata": {},
   "outputs": [],
   "source": [
    "jan_2021_trip_df = pd.read_parquet(\"/home/mkd/work/MLOps Zoomcamp/data/fhv_tripdata_2021-01.parquet\")\n",
    "feb_2021_trip_df = pd.read_parquet(\"/home/mkd/work/MLOps Zoomcamp/data/fhv_tripdata_2021-02.parquet\")"
   ]
  },
  {
   "cell_type": "markdown",
   "id": "964a566c-a328-4399-92d8-5f532a6b994a",
   "metadata": {},
   "source": [
    "## Downloading the data\n",
    "Q1. Read the data for January. How many records are there?"
   ]
  },
  {
   "cell_type": "code",
   "execution_count": 54,
   "id": "c84e0efc-db5b-449d-819c-7971468dd7be",
   "metadata": {},
   "outputs": [
    {
     "data": {
      "text/plain": [
       "1154112"
      ]
     },
     "execution_count": 54,
     "metadata": {},
     "output_type": "execute_result"
    }
   ],
   "source": [
    "len(jan_2021_trip_df)"
   ]
  },
  {
   "cell_type": "markdown",
   "id": "07324617-d78f-47af-93c1-c9eba945d995",
   "metadata": {},
   "source": [
    "## Computing duration\n",
    "Q2. What's the average trip duration in January?"
   ]
  },
  {
   "cell_type": "code",
   "execution_count": 55,
   "id": "fb701d57-4da1-49f8-b086-29f64078456a",
   "metadata": {},
   "outputs": [],
   "source": [
    "jan_2021_trip_df['duration'] = jan_2021_trip_df.dropOff_datetime - jan_2021_trip_df.pickup_datetime\n",
    "jan_2021_trip_df['duration'] = jan_2021_trip_df['duration'].dt.total_seconds() / 60"
   ]
  },
  {
   "cell_type": "code",
   "execution_count": 56,
   "id": "3da04dd0-9dd9-4dc6-b75c-d6c050bda310",
   "metadata": {},
   "outputs": [
    {
     "data": {
      "text/plain": [
       "19.1672240937939"
      ]
     },
     "execution_count": 56,
     "metadata": {},
     "output_type": "execute_result"
    }
   ],
   "source": [
    "jan_2021_trip_df['duration'].mean()"
   ]
  },
  {
   "cell_type": "markdown",
   "id": "db0891d1-0784-4288-b0fe-0c53f34a301d",
   "metadata": {},
   "source": [
    "## Data preparation\n",
    "Keep only the records where the duration was between 1 and 60 minutes (inclusive). How many records did you drop?"
   ]
  },
  {
   "cell_type": "code",
   "execution_count": 57,
   "id": "0295d616-a7ee-4453-9f05-36b2b5b1fc72",
   "metadata": {},
   "outputs": [],
   "source": [
    "jan_2021_trip_df_filtered = jan_2021_trip_df[(jan_2021_trip_df['duration'] >= 1.0) & (jan_2021_trip_df['duration'] <= 60.0)]"
   ]
  },
  {
   "cell_type": "code",
   "execution_count": 58,
   "id": "553327ae-4741-4de4-b2ec-99a399f3531a",
   "metadata": {},
   "outputs": [
    {
     "data": {
      "text/plain": [
       "44286"
      ]
     },
     "execution_count": 58,
     "metadata": {},
     "output_type": "execute_result"
    }
   ],
   "source": [
    "len(jan_2021_trip_df) - len(jan_2021_trip_df_filtered)"
   ]
  },
  {
   "cell_type": "markdown",
   "id": "b821b39e-982a-4d28-bf5d-51984ff9bdef",
   "metadata": {},
   "source": [
    "## Missing values\n",
    "Q3. What's the fractions of missing values for the pickup location ID?"
   ]
  },
  {
   "cell_type": "code",
   "execution_count": 59,
   "id": "9d169a77-46ca-4ed3-bbad-74548ca1e991",
   "metadata": {},
   "outputs": [
    {
     "data": {
      "text/plain": [
       "0.8352732770722617"
      ]
     },
     "execution_count": 59,
     "metadata": {},
     "output_type": "execute_result"
    }
   ],
   "source": [
    "jan_2021_trip_df_filtered['PUlocationID'].isna().sum() / len(jan_2021_trip_df_filtered)"
   ]
  },
  {
   "cell_type": "code",
   "execution_count": 60,
   "id": "a385776f-58f3-49df-a767-51b948a0c163",
   "metadata": {},
   "outputs": [
    {
     "name": "stderr",
     "output_type": "stream",
     "text": [
      "/tmp/ipykernel_8054/2954146637.py:2: SettingWithCopyWarning: \n",
      "A value is trying to be set on a copy of a slice from a DataFrame.\n",
      "Try using .loc[row_indexer,col_indexer] = value instead\n",
      "\n",
      "See the caveats in the documentation: https://pandas.pydata.org/pandas-docs/stable/user_guide/indexing.html#returning-a-view-versus-a-copy\n",
      "  jan_2021_trip_df_filtered[locationIDs] = jan_2021_trip_df_filtered[locationIDs].fillna(-1).astype('int')\n"
     ]
    }
   ],
   "source": [
    "locationIDs = ['PUlocationID', 'DOlocationID']\n",
    "jan_2021_trip_df_filtered[locationIDs] = jan_2021_trip_df_filtered[locationIDs].fillna(-1).astype('int')"
   ]
  },
  {
   "cell_type": "markdown",
   "id": "2cf85f1b-9d52-48fe-a910-d6db4070b5e0",
   "metadata": {},
   "source": [
    "## One-hot encoding\n",
    "Q4. What's the dimension of the one-hot encoded matrix?"
   ]
  },
  {
   "cell_type": "code",
   "execution_count": 61,
   "id": "9ffeef0c-5811-4fae-a60c-42e60b42873b",
   "metadata": {},
   "outputs": [
    {
     "name": "stderr",
     "output_type": "stream",
     "text": [
      "/tmp/ipykernel_8054/3075546607.py:1: SettingWithCopyWarning: \n",
      "A value is trying to be set on a copy of a slice from a DataFrame.\n",
      "Try using .loc[row_indexer,col_indexer] = value instead\n",
      "\n",
      "See the caveats in the documentation: https://pandas.pydata.org/pandas-docs/stable/user_guide/indexing.html#returning-a-view-versus-a-copy\n",
      "  jan_2021_trip_df_filtered[locationIDs] = jan_2021_trip_df_filtered[locationIDs].astype('str')\n"
     ]
    }
   ],
   "source": [
    "jan_2021_trip_df_filtered[locationIDs] = jan_2021_trip_df_filtered[locationIDs].astype('str')\n",
    "train_dicts = jan_2021_trip_df_filtered[locationIDs].to_dict(orient='records')\n",
    "train_dicts_dict_vectorizer = DictVectorizer()\n",
    "X_train = train_dicts_dict_vectorizer.fit_transform(train_dicts)"
   ]
  },
  {
   "cell_type": "markdown",
   "id": "b7777e2f-1f85-4497-a44e-52f3349c5235",
   "metadata": {},
   "source": [
    "## Training a model\n",
    "Q5. Train a plain linear regressor on the data and calculate RMSE on train data."
   ]
  },
  {
   "cell_type": "code",
   "execution_count": 62,
   "id": "93d5b486-c3af-4a38-b71f-b7d4409719d8",
   "metadata": {},
   "outputs": [],
   "source": [
    "y_train = jan_2021_trip_df_filtered['duration']"
   ]
  },
  {
   "cell_type": "code",
   "execution_count": 63,
   "id": "6656144b-8f98-4e64-bffb-fb14bb52f6f5",
   "metadata": {},
   "outputs": [
    {
     "data": {
      "text/plain": [
       "LinearRegression()"
      ]
     },
     "execution_count": 63,
     "metadata": {},
     "output_type": "execute_result"
    }
   ],
   "source": [
    "duration_predictor = LinearRegression()\n",
    "duration_predictor.fit(X_train, y_train)"
   ]
  },
  {
   "cell_type": "code",
   "execution_count": 64,
   "id": "2070cbfb-2a5f-456e-aef7-002bb85baf0d",
   "metadata": {},
   "outputs": [],
   "source": [
    "y_train_pred = duration_predictor.predict(X_train)"
   ]
  },
  {
   "cell_type": "code",
   "execution_count": 65,
   "id": "5b67cef7-8605-42ab-8b43-44efc3f2bffd",
   "metadata": {},
   "outputs": [
    {
     "data": {
      "text/plain": [
       "10.528519107212292"
      ]
     },
     "execution_count": 65,
     "metadata": {},
     "output_type": "execute_result"
    }
   ],
   "source": [
    "train_rmse = mean_squared_error(y_train, y_train_pred, squared=False)\n",
    "train_rmse"
   ]
  },
  {
   "cell_type": "markdown",
   "id": "7f619f8f-922c-421d-a4ec-b21d1ff644f5",
   "metadata": {},
   "source": [
    "## Evaluating the model\n",
    "Q6. What's the RMSE on validation?"
   ]
  },
  {
   "cell_type": "code",
   "execution_count": 66,
   "id": "25781cad-4ccb-4df6-a4a5-ebf66b0d32d3",
   "metadata": {},
   "outputs": [
    {
     "name": "stderr",
     "output_type": "stream",
     "text": [
      "/tmp/ipykernel_8054/2542697743.py:4: SettingWithCopyWarning: \n",
      "A value is trying to be set on a copy of a slice from a DataFrame.\n",
      "Try using .loc[row_indexer,col_indexer] = value instead\n",
      "\n",
      "See the caveats in the documentation: https://pandas.pydata.org/pandas-docs/stable/user_guide/indexing.html#returning-a-view-versus-a-copy\n",
      "  feb_2021_trip_df_filtered[locationIDs] = feb_2021_trip_df_filtered[locationIDs].fillna(-1).astype('int')\n",
      "/tmp/ipykernel_8054/2542697743.py:5: SettingWithCopyWarning: \n",
      "A value is trying to be set on a copy of a slice from a DataFrame.\n",
      "Try using .loc[row_indexer,col_indexer] = value instead\n",
      "\n",
      "See the caveats in the documentation: https://pandas.pydata.org/pandas-docs/stable/user_guide/indexing.html#returning-a-view-versus-a-copy\n",
      "  feb_2021_trip_df_filtered[locationIDs] = feb_2021_trip_df_filtered[locationIDs].astype('str')\n"
     ]
    }
   ],
   "source": [
    "feb_2021_trip_df['duration'] = feb_2021_trip_df.dropOff_datetime - feb_2021_trip_df.pickup_datetime\n",
    "feb_2021_trip_df['duration'] = feb_2021_trip_df['duration'].dt.total_seconds() / 60\n",
    "feb_2021_trip_df_filtered = feb_2021_trip_df[(feb_2021_trip_df['duration'] >= 1.0) & (feb_2021_trip_df['duration'] <= 60.0)]\n",
    "feb_2021_trip_df_filtered[locationIDs] = feb_2021_trip_df_filtered[locationIDs].fillna(-1).astype('int')\n",
    "feb_2021_trip_df_filtered[locationIDs] = feb_2021_trip_df_filtered[locationIDs].astype('str')\n",
    "val_dicts = feb_2021_trip_df_filtered[locationIDs].to_dict(orient='records')\n",
    "X_val = train_dicts_dict_vectorizer.transform(val_dicts)\n",
    "y_val = feb_2021_trip_df_filtered['duration']"
   ]
  },
  {
   "cell_type": "code",
   "execution_count": 67,
   "id": "7f805272-651d-4ec7-8027-2bce1dab338c",
   "metadata": {},
   "outputs": [],
   "source": [
    "y_val_pred = duration_predictor.predict(X_val)"
   ]
  },
  {
   "cell_type": "code",
   "execution_count": 68,
   "id": "a3484791-2c35-499a-aac1-42b13a18b7b0",
   "metadata": {},
   "outputs": [
    {
     "data": {
      "text/plain": [
       "11.014283211122269"
      ]
     },
     "execution_count": 68,
     "metadata": {},
     "output_type": "execute_result"
    }
   ],
   "source": [
    "val_rmse = mean_squared_error(y_val, y_val_pred, squared=False)\n",
    "val_rmse"
   ]
  },
  {
   "cell_type": "code",
   "execution_count": null,
   "id": "d62643d5-63f8-426f-9ad5-6225dd41af1a",
   "metadata": {},
   "outputs": [],
   "source": []
  }
 ],
 "metadata": {
  "kernelspec": {
   "display_name": "Python 3 (ipykernel)",
   "language": "python",
   "name": "python3"
  },
  "language_info": {
   "codemirror_mode": {
    "name": "ipython",
    "version": 3
   },
   "file_extension": ".py",
   "mimetype": "text/x-python",
   "name": "python",
   "nbconvert_exporter": "python",
   "pygments_lexer": "ipython3",
   "version": "3.9.12"
  }
 },
 "nbformat": 4,
 "nbformat_minor": 5
}
