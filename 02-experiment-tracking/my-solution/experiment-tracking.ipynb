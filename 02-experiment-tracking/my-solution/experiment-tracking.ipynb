{
 "cells": [
  {
   "cell_type": "markdown",
   "id": "5afcd539-942c-4dc5-89d7-5aad003c6893",
   "metadata": {},
   "source": [
    "## Install MLflow\n",
    "\n",
    "Q1. What's the version that you have?"
   ]
  },
  {
   "cell_type": "code",
   "execution_count": 4,
   "id": "d33250d3-7294-4f96-9f17-01501c7a849e",
   "metadata": {},
   "outputs": [
    {
     "name": "stdout",
     "output_type": "stream",
     "text": [
      "mlflow, version 1.26.1\n"
     ]
    }
   ],
   "source": [
    "!mlflow --version"
   ]
  },
  {
   "cell_type": "markdown",
   "id": "0faa0d79-ef9a-43a3-8b22-7aad4dd763b1",
   "metadata": {},
   "source": [
    "## Download and preprocess the data\n",
    "\n",
    "Q2. How many files were saved to `OUTPUT_FOLDER`?"
   ]
  },
  {
   "cell_type": "code",
   "execution_count": 5,
   "id": "cd6b3076-82ae-4810-99c9-e040f64bba32",
   "metadata": {},
   "outputs": [],
   "source": [
    "!python ../homework/preprocess_data.py --raw_data_path \"/home/mkd/work/MLOps Zoomcamp/data\" --dest_path \"/home/mkd/work/MLOps Zoomcamp/mlops-zoomcamp/02-experiment-tracking/my-solution\""
   ]
  },
  {
   "cell_type": "markdown",
   "id": "3fb6225e-982d-43c4-b09f-608f3707933a",
   "metadata": {},
   "source": [
    "## Train a model with autolog\n",
    "\n",
    "Q3. How many parameters are automatically logged by MLflow?"
   ]
  },
  {
   "cell_type": "code",
   "execution_count": 7,
   "id": "8466257b-90df-4909-821e-16ebe7ead4d2",
   "metadata": {
    "scrolled": true,
    "tags": []
   },
   "outputs": [
    {
     "name": "stdout",
     "output_type": "stream",
     "text": [
      "^C\n",
      "Traceback (most recent call last):\n",
      "  File \"/home/mkd/work/MLOps Zoomcamp/mlops-zoomcamp/02-experiment-tracking/my-solution/../homework/train.py\", line 36, in <module>\n",
      "    run(args.data_path)\n",
      "  File \"/home/mkd/work/MLOps Zoomcamp/mlops-zoomcamp/02-experiment-tracking/my-solution/../homework/train.py\", line 20, in run\n",
      "    rf.fit(X_train, y_train)\n",
      "  File \"/home/mkd/anaconda3/envs/mlops-zoomcamp-env/lib/python3.9/site-packages/sklearn/ensemble/_forest.py\", line 450, in fit\n",
      "    trees = Parallel(\n",
      "  File \"/home/mkd/anaconda3/envs/mlops-zoomcamp-env/lib/python3.9/site-packages/joblib/parallel.py\", line 1046, in __call__\n",
      "    while self.dispatch_one_batch(iterator):\n",
      "  File \"/home/mkd/anaconda3/envs/mlops-zoomcamp-env/lib/python3.9/site-packages/joblib/parallel.py\", line 861, in dispatch_one_batch\n",
      "    self._dispatch(tasks)\n",
      "  File \"/home/mkd/anaconda3/envs/mlops-zoomcamp-env/lib/python3.9/site-packages/joblib/parallel.py\", line 779, in _dispatch\n",
      "    job = self._backend.apply_async(batch, callback=cb)\n",
      "  File \"/home/mkd/anaconda3/envs/mlops-zoomcamp-env/lib/python3.9/site-packages/joblib/_parallel_backends.py\", line 208, in apply_async\n",
      "    result = ImmediateResult(func)\n",
      "  File \"/home/mkd/anaconda3/envs/mlops-zoomcamp-env/lib/python3.9/site-packages/joblib/_parallel_backends.py\", line 572, in __init__\n",
      "    self.results = batch()\n",
      "  File \"/home/mkd/anaconda3/envs/mlops-zoomcamp-env/lib/python3.9/site-packages/joblib/parallel.py\", line 262, in __call__\n",
      "    return [func(*args, **kwargs)\n",
      "  File \"/home/mkd/anaconda3/envs/mlops-zoomcamp-env/lib/python3.9/site-packages/joblib/parallel.py\", line 262, in <listcomp>\n",
      "    return [func(*args, **kwargs)\n",
      "  File \"/home/mkd/anaconda3/envs/mlops-zoomcamp-env/lib/python3.9/site-packages/sklearn/utils/fixes.py\", line 216, in __call__\n",
      "    return self.function(*args, **kwargs)\n",
      "  File \"/home/mkd/anaconda3/envs/mlops-zoomcamp-env/lib/python3.9/site-packages/sklearn/ensemble/_forest.py\", line 185, in _parallel_build_trees\n",
      "    tree.fit(X, y, sample_weight=curr_sample_weight, check_input=False)\n",
      "  File \"/home/mkd/anaconda3/envs/mlops-zoomcamp-env/lib/python3.9/site-packages/sklearn/tree/_classes.py\", line 1315, in fit\n",
      "    super().fit(\n",
      "  File \"/home/mkd/anaconda3/envs/mlops-zoomcamp-env/lib/python3.9/site-packages/sklearn/tree/_classes.py\", line 420, in fit\n",
      "    builder.build(self.tree_, X, y, sample_weight)\n",
      "KeyboardInterrupt\n"
     ]
    }
   ],
   "source": [
    "!python ./train.py --data_path \"/home/mkd/work/MLOps Zoomcamp/mlops-zoomcamp/02-experiment-tracking/my-solution\""
   ]
  },
  {
   "cell_type": "markdown",
   "id": "f25b69e5-d7b2-4b1b-99d0-dfb59807774f",
   "metadata": {},
   "source": [
    "## Launch the tracking server locally\n",
    "\n",
    "Q4. In addition to `backend-store-uri`, what else do you need to pass to properly configure the server?"
   ]
  },
  {
   "cell_type": "code",
   "execution_count": 8,
   "id": "12a5d101-dda9-44d5-84f0-ed977c9a6504",
   "metadata": {
    "scrolled": true,
    "tags": []
   },
   "outputs": [
    {
     "name": "stdout",
     "output_type": "stream",
     "text": [
      "[2022-07-23 17:08:07 +0530] [14910] [INFO] Starting gunicorn 20.1.0\n",
      "[2022-07-23 17:08:07 +0530] [14910] [INFO] Listening at: http://127.0.0.1:5000 (14910)\n",
      "[2022-07-23 17:08:07 +0530] [14910] [INFO] Using worker: sync\n",
      "[2022-07-23 17:08:07 +0530] [14911] [INFO] Booting worker with pid: 14911\n",
      "[2022-07-23 17:08:07 +0530] [14912] [INFO] Booting worker with pid: 14912\n",
      "[2022-07-23 17:08:07 +0530] [14913] [INFO] Booting worker with pid: 14913\n",
      "[2022-07-23 17:08:07 +0530] [14914] [INFO] Booting worker with pid: 14914\n",
      "^C\n",
      "[2022-07-23 17:08:32 +0530] [14910] [INFO] Handling signal: int\n",
      "[2022-07-23 17:08:32 +0530] [14912] [INFO] Worker exiting (pid: 14912)\n",
      "[2022-07-23 17:08:32 +0530] [14914] [INFO] Worker exiting (pid: 14914)\n",
      "[2022-07-23 17:08:32 +0530] [14913] [INFO] Worker exiting (pid: 14913)\n",
      "[2022-07-23 17:08:32 +0530] [14911] [INFO] Worker exiting (pid: 14911)\n"
     ]
    }
   ],
   "source": [
    "!mlflow server --backend-store-uri sqlite:///mlflow.db --default-artifact-root ./artifacts"
   ]
  },
  {
   "cell_type": "markdown",
   "id": "90798379-ac38-45bc-b029-80fac71c2578",
   "metadata": {},
   "source": [
    "## Tune the hyperparameters of the model\n",
    "\n",
    "Q5. What's the best validation RMSE that you got?"
   ]
  },
  {
   "cell_type": "code",
   "execution_count": null,
   "id": "83304f1d-7fb8-4ce6-bd3a-1de8eecf956d",
   "metadata": {},
   "outputs": [],
   "source": [
    "!python ./hpo.py --data_path \"/home/mkd/work/MLOps Zoomcamp/mlops-zoomcamp/02-experiment-tracking/my-solution\""
   ]
  },
  {
   "cell_type": "markdown",
   "id": "8083beb2-d954-47b9-9e27-f65530f4520f",
   "metadata": {},
   "source": [
    "## Promote the best model to the model registry\n",
    "\n",
    "Q6. What is the test RMSE of the best model?"
   ]
  }
 ],
 "metadata": {
  "kernelspec": {
   "display_name": "Python 3 (ipykernel)",
   "language": "python",
   "name": "python3"
  },
  "language_info": {
   "codemirror_mode": {
    "name": "ipython",
    "version": 3
   },
   "file_extension": ".py",
   "mimetype": "text/x-python",
   "name": "python",
   "nbconvert_exporter": "python",
   "pygments_lexer": "ipython3",
   "version": "3.9.12"
  }
 },
 "nbformat": 4,
 "nbformat_minor": 5
}
